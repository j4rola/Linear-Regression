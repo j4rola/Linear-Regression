import pandas as pd
from sklearn.linear_model import LinearRegression
import matplotlib.pyplot as plt
import numpy as np

# Read the data from the CSV file
df = pd.read_csv('/content/sample_data/sportsref_download (1).csv')

# Assuming you've already processed the data as you described
df.columns = df.iloc[0]
df = df.drop(0)
pen = df['Pen'].to_list()[:-3]
yds = df.iloc[:, 23].to_list()[:-3]

print(yds) 



# Convert the data to NumPy arrays and reshape for modeling
pen = np.array(pen).astype(int).reshape(-1, 1)
yds = np.array(yds).astype(int)




# Create and fit a linear regression model
model = LinearRegression()
model.fit(pen, yds)

# Make predictions using the model
y_pred = model.predict(pen)

# Create a scatter plot of the data
plt.scatter(pen, yds, label='Data Points')

# Plot the regression line separately
plt.plot(pen, y_pred, color='red', label='Regression Line')
plt.xlabel('Penalties')
plt.ylabel('Yards')
plt.legend()
plt.title('Linear Regression')
plt.show()

#Get a penalty yards prediction for a specific number of penalties 
test_pred = model.predict(np.array(90).reshape(-1, 1))
print(test_pred) 
